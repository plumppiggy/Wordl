{
 "cells": [
  {
   "cell_type": "code",
   "execution_count": 21,
   "metadata": {},
   "outputs": [],
   "source": [
    "\n",
    "# Main functionality\n",
    "# from ipynb.fs.full.Trie.ipynb import *\n",
    "\n",
    "\n",
    "import import_ipynb\n",
    "\n",
    "\n",
    "import Trie\n",
    "\n",
    "Root = Trie.Trie()\n",
    "\n",
    "\n",
    "\n"
   ]
  },
  {
   "cell_type": "code",
   "execution_count": 25,
   "metadata": {},
   "outputs": [
    {
     "ename": "AttributeError",
     "evalue": "'Trie' object has no attribute 'Count'",
     "output_type": "error",
     "traceback": [
      "\u001b[1;31m---------------------------------------------------------------------------\u001b[0m",
      "\u001b[1;31mAttributeError\u001b[0m                            Traceback (most recent call last)",
      "\u001b[1;32mc:\\Users\\ethan\\Documents\\Projects\\Wordl\\main.ipynb Cell 2'\u001b[0m in \u001b[0;36m<module>\u001b[1;34m\u001b[0m\n\u001b[0;32m      <a href='vscode-notebook-cell:/c%3A/Users/ethan/Documents/Projects/Wordl/main.ipynb#ch0000001?line=0'>1</a>\u001b[0m \u001b[39m# Read in all words\u001b[39;00m\n\u001b[0;32m      <a href='vscode-notebook-cell:/c%3A/Users/ethan/Documents/Projects/Wordl/main.ipynb#ch0000001?line=2'>3</a>\u001b[0m Root \u001b[39m=\u001b[39m Trie\u001b[39m.\u001b[39mTrie()\n\u001b[1;32m----> <a href='vscode-notebook-cell:/c%3A/Users/ethan/Documents/Projects/Wordl/main.ipynb#ch0000001?line=4'>5</a>\u001b[0m \u001b[39mprint\u001b[39m(Root\u001b[39m.\u001b[39;49mCount)\n\u001b[0;32m      <a href='vscode-notebook-cell:/c%3A/Users/ethan/Documents/Projects/Wordl/main.ipynb#ch0000001?line=6'>7</a>\u001b[0m f \u001b[39m=\u001b[39m \u001b[39mopen\u001b[39m(\u001b[39m\"\u001b[39m\u001b[39mwords.txt\u001b[39m\u001b[39m\"\u001b[39m, \u001b[39m\"\u001b[39m\u001b[39mr\u001b[39m\u001b[39m\"\u001b[39m)\n\u001b[0;32m      <a href='vscode-notebook-cell:/c%3A/Users/ethan/Documents/Projects/Wordl/main.ipynb#ch0000001?line=8'>9</a>\u001b[0m \u001b[39mwhile\u001b[39;00m \u001b[39mTrue\u001b[39;00m:\n",
      "\u001b[1;31mAttributeError\u001b[0m: 'Trie' object has no attribute 'Count'"
     ]
    }
   ],
   "source": [
    "# Read in all words\n",
    "\n",
    "Root = Trie.Trie()\n",
    "\n",
    "print(Root.Count)\n",
    "\n",
    "f = open(\"words.txt\", \"r\")\n",
    "\n",
    "while True:\n",
    "    word = f.read()\n",
    "    if word == \"\":\n",
    "        break\n",
    "    Root.Insert(word)\n",
    "\n",
    "print(Root.Count)\n",
    "\n"
   ]
  },
  {
   "cell_type": "code",
   "execution_count": null,
   "metadata": {},
   "outputs": [],
   "source": []
  }
 ],
 "metadata": {
  "interpreter": {
   "hash": "8e4e7eae99cdd75dbefc86644be31cd6dbf1ef75dc710a83e88bca3148f753ac"
  },
  "kernelspec": {
   "display_name": "Python 3.9.10 64-bit (windows store)",
   "language": "python",
   "name": "python3"
  },
  "language_info": {
   "codemirror_mode": {
    "name": "ipython",
    "version": 3
   },
   "file_extension": ".py",
   "mimetype": "text/x-python",
   "name": "python",
   "nbconvert_exporter": "python",
   "pygments_lexer": "ipython3",
   "version": "3.9.10"
  },
  "orig_nbformat": 4
 },
 "nbformat": 4,
 "nbformat_minor": 2
}
