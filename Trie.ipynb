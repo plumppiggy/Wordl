{
 "cells": [
  {
   "cell_type": "code",
   "execution_count": 14,
   "metadata": {},
   "outputs": [],
   "source": [
    "class TrieNode:\n",
    "    End : bool\n",
    "    NextNodes : list\n",
    "\n",
    "    def __init__(self):\n",
    "        self.End = False\n",
    "        self.NextNodes = [None] * 26\n",
    "    \n",
    "    def IsEnd(self):\n",
    "        return self.End\n",
    "    \n",
    "    \n",
    "    def GetNode(self, i : int):\n",
    "        return self.NextNodes[i]\n",
    "\n",
    "    def CreateNode(self, i : int):\n",
    "        self.NextNodes[i] = TrieNode()\n",
    "        return self.NextNodes[i]\n",
    "\n",
    "        \n",
    "    \n",
    "\n",
    "\n"
   ]
  },
  {
   "cell_type": "code",
   "execution_count": 20,
   "metadata": {},
   "outputs": [],
   "source": [
    "class Trie:\n",
    "\n",
    "    Root : TrieNode\n",
    "    Count : 0\n",
    "\n",
    "    def __init__(self):\n",
    "        self.Root = TrieNode()\n",
    "        self.Count = 0\n",
    "    \n",
    "\n",
    "    def Insert(self, word : str):\n",
    "        self.Count += 1\n",
    "        cur = self.Root\n",
    "        for l in word:\n",
    "            idx = ord(l) - 97 # 'a' in ASCII\n",
    "            tmp = cur.GetNode(idx)\n",
    "            if tmp is None:\n",
    "                tmp = cur.CreateNode(idx)\n",
    "            cur = tmp\n",
    "        cur.End = True\n",
    "\n",
    "    def Delete(self, word : str):\n",
    "        self.Count -= 1\n",
    "        cur = self.Root\n",
    "        for l in word:\n",
    "            cur = cur.GetNode(ord(l) - 97) # 'a' in ASCII\n",
    "            if cur is None:\n",
    "                raise TypeError(\"Word is not in Trie\")\n",
    "        cur.End = False\n",
    "\n",
    "    def IsValidWord(self, word : str):\n",
    "        cur = self.Root\n",
    "        for l in word:\n",
    "            cur = cur.GetNode(ord(l) - 97) # 'a' is ASCII\n",
    "            if cur is None and i != 4:\n",
    "                return False\n",
    "        return True\n",
    "\n",
    "    # def GetAllWordsFitting(self, ):\n",
    "\n",
    "\n",
    "\n",
    "\n",
    "\n"
   ]
  },
  {
   "cell_type": "code",
   "execution_count": 17,
   "metadata": {},
   "outputs": [
    {
     "name": "stdout",
     "output_type": "stream",
     "text": [
      "12972\n"
     ]
    }
   ],
   "source": [
    "# Read in all words\n",
    "\n",
    "Root = Trie()\n",
    "\n",
    "f = open(\"words.txt\", \"r\")\n",
    "\n",
    "\n",
    "for word in f:\n",
    "    word = word[:-1]\n",
    "    Root.Insert(word)\n",
    "\n",
    "print(Root.Count)\n",
    "\n"
   ]
  },
  {
   "cell_type": "code",
   "execution_count": null,
   "metadata": {},
   "outputs": [
    {
     "name": "stdout",
     "output_type": "stream",
     "text": [
      "qophs\n"
     ]
    }
   ],
   "source": [
    "\n",
    "from random import randint\n",
    "\n",
    "def GetRandomWord(Root: Trie):\n",
    "    len = 5\n",
    "    cur = \"\"\n",
    "    node = Root.Root\n",
    "    while len > 0:\n",
    "        idx = randint(0, 25)\n",
    "        tmp = node.GetNode(idx)\n",
    "        if tmp is not None:\n",
    "            len -= 1\n",
    "            cur = cur + chr(idx + 97) # 'a' in ASCII\n",
    "            node = tmp\n",
    "    return cur\n",
    "    \n",
    "\n",
    "print(GetRandomWord(Root))\n",
    "\n",
    "\n"
   ]
  },
  {
   "cell_type": "code",
   "execution_count": null,
   "metadata": {},
   "outputs": [],
   "source": []
  },
  {
   "cell_type": "code",
   "execution_count": null,
   "metadata": {},
   "outputs": [],
   "source": []
  }
 ],
 "metadata": {
  "interpreter": {
   "hash": "8e4e7eae99cdd75dbefc86644be31cd6dbf1ef75dc710a83e88bca3148f753ac"
  },
  "kernelspec": {
   "display_name": "Python 3.9.10 64-bit (windows store)",
   "language": "python",
   "name": "python3"
  },
  "language_info": {
   "codemirror_mode": {
    "name": "ipython",
    "version": 3
   },
   "file_extension": ".py",
   "mimetype": "text/x-python",
   "name": "python",
   "nbconvert_exporter": "python",
   "pygments_lexer": "ipython3",
   "version": "3.9.10"
  },
  "orig_nbformat": 4
 },
 "nbformat": 4,
 "nbformat_minor": 2
}
