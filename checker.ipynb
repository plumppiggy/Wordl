{
 "cells": [
  {
   "cell_type": "code",
   "execution_count": 33,
   "metadata": {},
   "outputs": [
    {
     "name": "stdout",
     "output_type": "stream",
     "text": [
      "[0, 0, 0, 0, 1]\n",
      "[2, 2, 2, 2, 2]\n",
      "[2, 1, 1, 0, 0]\n",
      "[2, 0, 0, 0, 0]\n",
      "[1, 0, 1, 1, 1]\n",
      "[2, 0, 0, 0, 0]\n",
      "[1, 1, 1, 1, 0]\n",
      "[0, 2, 2, 2, 2]\n",
      "[1, 1, 1, 1, 1]\n"
     ]
    }
   ],
   "source": [
    "## Checks if guess is the same as answer\n",
    "## gives back an array, \n",
    "## 0 : wrong letter\n",
    "## 1 : right letter, wrong spot\n",
    "## 2 : right letter, right spot\n",
    "def checkWord(guess, ans):\n",
    "    correct = [0, 0, 0, 0, 0]\n",
    "    used = [' ', ' ', ' ', ' ', ' ']\n",
    "    for i in range(len(ans)):\n",
    "        if (guess[i] == ans[i]):\n",
    "            correct[i] = 2\n",
    "            used[i] = guess[i]\n",
    "    \n",
    "    for i in range(len(ans)):\n",
    "        if (correct[i] == 2):\n",
    "            continue\n",
    "        if (ans.count(guess[i]) > 0 and used.count(guess[i]) == 0):\n",
    "            correct[i] = 1\n",
    "\n",
    "    return correct\n",
    "\n",
    "'''checkWord(\"hello\", \"bobby\")\n",
    "checkWord(\"hello\", \"hello\")\n",
    "checkWord(\"abcde\", \"anbcc\")\n",
    "checkWord(\"bbbpp\", \"boobb\")\n",
    "checkWord(\"bcbbb\", \"hblll\")\n",
    "checkWord(\"apapp\", \"asdfg\")\n",
    "checkWord(\"apple\", \"salpp\")\n",
    "checkWord(\"aaaaa\", \"baaaa\")\n",
    "checkWord(\"ababa\", \"babab\")'''\n"
   ]
  },
  {
   "cell_type": "code",
   "execution_count": 3,
   "metadata": {},
   "outputs": [
    {
     "name": "stdout",
     "output_type": "stream",
     "text": [
      "obi wan kenobi\n"
     ]
    }
   ],
   "source": [
    "print(\"obi wan kenobi\")"
   ]
  }
 ],
 "metadata": {
  "interpreter": {
   "hash": "806f5aff84c8a65152b3b8a7e62726f1b55736f08e1611b8d98a0cc8469fb029"
  },
  "kernelspec": {
   "display_name": "Python 3.9.10 64-bit (windows store)",
   "language": "python",
   "name": "python3"
  },
  "language_info": {
   "codemirror_mode": {
    "name": "ipython",
    "version": 3
   },
   "file_extension": ".py",
   "mimetype": "text/x-python",
   "name": "python",
   "nbconvert_exporter": "python",
   "pygments_lexer": "ipython3",
   "version": "3.9.10"
  },
  "orig_nbformat": 4
 },
 "nbformat": 4,
 "nbformat_minor": 2
}
