{
 "cells": [
  {
   "cell_type": "code",
   "execution_count": 40,
   "metadata": {},
   "outputs": [
    {
     "ename": "NameError",
     "evalue": "name 'getRandomWord' is not defined",
     "output_type": "error",
     "traceback": [
      "\u001b[1;31m---------------------------------------------------------------------------\u001b[0m",
      "\u001b[1;31mNameError\u001b[0m                                 Traceback (most recent call last)",
      "\u001b[1;32mc:\\Users\\elysi\\Python\\Wordl\\checker.ipynb Cell 1'\u001b[0m in \u001b[0;36m<module>\u001b[1;34m\u001b[0m\n\u001b[0;32m     <a href='vscode-notebook-cell:/c%3A/Users/elysi/Python/Wordl/checker.ipynb#ch0000000?line=42'>43</a>\u001b[0m     \u001b[39mif\u001b[39;00m (\u001b[39mnot\u001b[39;00m gameOver \u001b[39mand\u001b[39;00m guesses \u001b[39m==\u001b[39m \u001b[39m6\u001b[39m):\n\u001b[0;32m     <a href='vscode-notebook-cell:/c%3A/Users/elysi/Python/Wordl/checker.ipynb#ch0000000?line=43'>44</a>\u001b[0m         \u001b[39mprint\u001b[39m(\u001b[39m\"\u001b[39m\u001b[39mgame over, u lost\u001b[39m\u001b[39m\"\u001b[39m)\n\u001b[1;32m---> <a href='vscode-notebook-cell:/c%3A/Users/elysi/Python/Wordl/checker.ipynb#ch0000000?line=46'>47</a>\u001b[0m game()\n\u001b[0;32m     <a href='vscode-notebook-cell:/c%3A/Users/elysi/Python/Wordl/checker.ipynb#ch0000000?line=48'>49</a>\u001b[0m \u001b[39m'''checkWord(\"hello\", \"bobby\")\u001b[39;00m\n\u001b[0;32m     <a href='vscode-notebook-cell:/c%3A/Users/elysi/Python/Wordl/checker.ipynb#ch0000000?line=49'>50</a>\u001b[0m \u001b[39mcheckWord(\"hello\", \"hello\")\u001b[39;00m\n\u001b[0;32m     <a href='vscode-notebook-cell:/c%3A/Users/elysi/Python/Wordl/checker.ipynb#ch0000000?line=50'>51</a>\u001b[0m \u001b[39mcheckWord(\"abcde\", \"anbcc\")\u001b[39;00m\n\u001b[1;32m   (...)\u001b[0m\n\u001b[0;32m     <a href='vscode-notebook-cell:/c%3A/Users/elysi/Python/Wordl/checker.ipynb#ch0000000?line=55'>56</a>\u001b[0m \u001b[39mcheckWord(\"aaaaa\", \"baaaa\")\u001b[39;00m\n\u001b[0;32m     <a href='vscode-notebook-cell:/c%3A/Users/elysi/Python/Wordl/checker.ipynb#ch0000000?line=56'>57</a>\u001b[0m \u001b[39mcheckWord(\"ababa\", \"babab\")'''\u001b[39;00m\n",
      "\u001b[1;32mc:\\Users\\elysi\\Python\\Wordl\\checker.ipynb Cell 1'\u001b[0m in \u001b[0;36mgame\u001b[1;34m()\u001b[0m\n\u001b[0;32m     <a href='vscode-notebook-cell:/c%3A/Users/elysi/Python/Wordl/checker.ipynb#ch0000000?line=30'>31</a>\u001b[0m guesses \u001b[39m=\u001b[39m \u001b[39m0\u001b[39m\n\u001b[0;32m     <a href='vscode-notebook-cell:/c%3A/Users/elysi/Python/Wordl/checker.ipynb#ch0000000?line=31'>32</a>\u001b[0m gameOver \u001b[39m=\u001b[39m \u001b[39mFalse\u001b[39;00m\n\u001b[1;32m---> <a href='vscode-notebook-cell:/c%3A/Users/elysi/Python/Wordl/checker.ipynb#ch0000000?line=32'>33</a>\u001b[0m answer \u001b[39m=\u001b[39m getRandomWord()\n\u001b[0;32m     <a href='vscode-notebook-cell:/c%3A/Users/elysi/Python/Wordl/checker.ipynb#ch0000000?line=33'>34</a>\u001b[0m \u001b[39mfor\u001b[39;00m i \u001b[39min\u001b[39;00m \u001b[39m5\u001b[39m:\n\u001b[0;32m     <a href='vscode-notebook-cell:/c%3A/Users/elysi/Python/Wordl/checker.ipynb#ch0000000?line=34'>35</a>\u001b[0m     guess \u001b[39m=\u001b[39m getWord()\n",
      "\u001b[1;31mNameError\u001b[0m: name 'getRandomWord' is not defined"
     ]
    }
   ],
   "source": [
    "## Checks if guess is the same as answer\n",
    "## gives back an array, \n",
    "## 0 : wrong letter\n",
    "## 1 : right letter, wrong spot\n",
    "## 2 : right letter, right spot\n",
    "def checkWord(guess, ans):\n",
    "    correct = [0, 0, 0, 0, 0]\n",
    "    used = [' ', ' ', ' ', ' ', ' ']\n",
    "    for i in range(len(ans)):\n",
    "        if (guess[i] == ans[i]):\n",
    "            correct[i] = 2\n",
    "            used[i] = guess[i]\n",
    "    \n",
    "    for i in range(len(ans)):\n",
    "        if (correct[i] == 2):\n",
    "            continue\n",
    "        if (ans.count(guess[i]) > 0 and used.count(guess[i]) == 0):\n",
    "            correct[i] = 1\n",
    "    \n",
    "    return correct\n",
    "\n",
    "def getWord():\n",
    "    while(1):\n",
    "        print(\"Enter a five letter word\")\n",
    "        guess = input()\n",
    "        if (len(guess) == 5 and isValidWord(guess)):\n",
    "            return guess\n",
    "        print(\"Not a valid word\")\n",
    "\n",
    "def game():\n",
    "    guesses = 0\n",
    "    gameOver = False\n",
    "    ## get the answer\n",
    "    answer = getRandomWord()\n",
    "    while guesses < 6:\n",
    "        ## get guess from user\n",
    "        guess = getWord()\n",
    "        ## check the guess against the true answer\n",
    "        correct = checkWord(guess, answer)\n",
    "\n",
    "        ## PRINT LETTERS IN RIGHT COLOUR\n",
    "\n",
    "        ## if the guess matches the answer then break\n",
    "        if (guess.count(2) == 5):\n",
    "            gameOver = True\n",
    "            break\n",
    "        guesses += 1\n",
    "\n",
    "    if (not gameOver and guesses == 6):\n",
    "        print(\"game over, u lost\")\n",
    "\n",
    "\n",
    "\n",
    "'''checkWord(\"hello\", \"bobby\")\n",
    "checkWord(\"hello\", \"hello\")\n",
    "checkWord(\"abcde\", \"anbcc\")\n",
    "checkWord(\"bbbpp\", \"boobb\")\n",
    "checkWord(\"bcbbb\", \"hblll\")\n",
    "checkWord(\"apapp\", \"asdfg\")\n",
    "checkWord(\"apple\", \"salpp\")\n",
    "checkWord(\"aaaaa\", \"baaaa\")\n",
    "checkWord(\"ababa\", \"babab\")'''\n"
   ]
  },
  {
   "cell_type": "code",
   "execution_count": 3,
   "metadata": {},
   "outputs": [
    {
     "name": "stdout",
     "output_type": "stream",
     "text": [
      "obi wan kenobi\n"
     ]
    }
   ],
   "source": [
    "print(\"obi wan kenobi\")"
   ]
  }
 ],
 "metadata": {
  "interpreter": {
   "hash": "806f5aff84c8a65152b3b8a7e62726f1b55736f08e1611b8d98a0cc8469fb029"
  },
  "kernelspec": {
   "display_name": "Python 3.9.10 64-bit (windows store)",
   "language": "python",
   "name": "python3"
  },
  "language_info": {
   "codemirror_mode": {
    "name": "ipython",
    "version": 3
   },
   "file_extension": ".py",
   "mimetype": "text/x-python",
   "name": "python",
   "nbconvert_exporter": "python",
   "pygments_lexer": "ipython3",
   "version": "3.9.10"
  },
  "orig_nbformat": 4
 },
 "nbformat": 4,
 "nbformat_minor": 2
}
